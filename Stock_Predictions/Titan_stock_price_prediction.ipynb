{
  "nbformat": 4,
  "nbformat_minor": 0,
  "metadata": {
    "colab": {
      "provenance": []
    },
    "kernelspec": {
      "name": "python3",
      "display_name": "Python 3"
    },
    "language_info": {
      "name": "python"
    }
  },
  "cells": [
    {
      "cell_type": "code",
      "execution_count": null,
      "metadata": {
        "colab": {
          "base_uri": "https://localhost:8080/"
        },
        "id": "-9C1KOSk5VTP",
        "outputId": "32aefc9c-8ebe-410b-ec66-7ee3fd1cb372"
      },
      "outputs": [
        {
          "output_type": "stream",
          "name": "stdout",
          "text": [
            "Requirement already satisfied: yahoofinancials in /usr/local/lib/python3.10/dist-packages (1.16)\n",
            "Requirement already satisfied: pytz in /usr/local/lib/python3.10/dist-packages (from yahoofinancials) (2023.3)\n",
            "Requirement already satisfied: requests>=2.26 in /usr/local/lib/python3.10/dist-packages (from yahoofinancials) (2.31.0)\n",
            "Requirement already satisfied: charset-normalizer<4,>=2 in /usr/local/lib/python3.10/dist-packages (from requests>=2.26->yahoofinancials) (3.2.0)\n",
            "Requirement already satisfied: idna<4,>=2.5 in /usr/local/lib/python3.10/dist-packages (from requests>=2.26->yahoofinancials) (3.4)\n",
            "Requirement already satisfied: urllib3<3,>=1.21.1 in /usr/local/lib/python3.10/dist-packages (from requests>=2.26->yahoofinancials) (2.0.4)\n",
            "Requirement already satisfied: certifi>=2017.4.17 in /usr/local/lib/python3.10/dist-packages (from requests>=2.26->yahoofinancials) (2023.7.22)\n"
          ]
        }
      ],
      "source": [
        "import math\n",
        "import pandas_datareader as web\n",
        "import numpy as np\n",
        "import pandas as pd\n",
        "from sklearn.preprocessing import MinMaxScaler\n",
        "from keras.models import Sequential\n",
        "from keras.layers import Dense,LSTM\n",
        "import matplotlib.pyplot as plt\n",
        "plt.style.use('fivethirtyeight')\n",
        "\n",
        "\n",
        "\n",
        "!pip install yahoofinancials\n",
        "import yfinance as yf\n",
        "\n",
        "from yahoofinancials import YahooFinancials"
      ]
    },
    {
      "cell_type": "code",
      "source": [
        "#df = web.DataReader('TITAN.NS',data_source='yahoo',start='2012-01-01',end='2022-05-08')\n",
        "\n",
        "\n",
        "df = yf.download('TITAN.NS', start='2012-01-01', end='2023-08-13', progress=False)"
      ],
      "metadata": {
        "id": "yEDpxt_K5jO5"
      },
      "execution_count": null,
      "outputs": []
    },
    {
      "cell_type": "code",
      "source": [
        "df"
      ],
      "metadata": {
        "colab": {
          "base_uri": "https://localhost:8080/",
          "height": 455
        },
        "id": "iQlkO2r25kOP",
        "outputId": "3a3bb8c2-f3e2-4a62-a657-c7bf8725a0ce"
      },
      "execution_count": null,
      "outputs": [
        {
          "output_type": "execute_result",
          "data": {
            "text/plain": [
              "                   Open         High          Low        Close    Adj Close  \\\n",
              "Date                                                                          \n",
              "2012-01-02   171.600006   177.000000   171.350006   175.149994   162.617142   \n",
              "2012-01-03   176.500000   180.649994   176.500000   179.550003   166.702316   \n",
              "2012-01-04   180.000000   184.399994   175.600006   177.800003   165.077530   \n",
              "2012-01-05   178.949997   181.699997   174.050003   176.449997   163.824127   \n",
              "2012-01-06   175.250000   176.449997   170.500000   172.899994   160.528152   \n",
              "...                 ...          ...          ...          ...          ...   \n",
              "2023-08-07  2919.949951  2919.949951  2882.449951  2904.600098  2904.600098   \n",
              "2023-08-08  2918.000000  2932.000000  2904.600098  2921.250000  2921.250000   \n",
              "2023-08-09  2924.000000  2962.000000  2918.149902  2955.899902  2955.899902   \n",
              "2023-08-10  2958.000000  2995.500000  2917.000000  2988.550049  2988.550049   \n",
              "2023-08-11  2988.500000  3067.449951  2980.000000  3017.250000  3017.250000   \n",
              "\n",
              "             Volume  \n",
              "Date                 \n",
              "2012-01-02  3717480  \n",
              "2012-01-03  3552588  \n",
              "2012-01-04  3670612  \n",
              "2012-01-05  2736557  \n",
              "2012-01-06  2948089  \n",
              "...             ...  \n",
              "2023-08-07   580359  \n",
              "2023-08-08   474417  \n",
              "2023-08-09   600081  \n",
              "2023-08-10   970990  \n",
              "2023-08-11  1823274  \n",
              "\n",
              "[2865 rows x 6 columns]"
            ],
            "text/html": [
              "\n",
              "\n",
              "  <div id=\"df-e2aa9db8-dd07-445b-a1aa-4b948d42a80e\">\n",
              "    <div class=\"colab-df-container\">\n",
              "      <div>\n",
              "<style scoped>\n",
              "    .dataframe tbody tr th:only-of-type {\n",
              "        vertical-align: middle;\n",
              "    }\n",
              "\n",
              "    .dataframe tbody tr th {\n",
              "        vertical-align: top;\n",
              "    }\n",
              "\n",
              "    .dataframe thead th {\n",
              "        text-align: right;\n",
              "    }\n",
              "</style>\n",
              "<table border=\"1\" class=\"dataframe\">\n",
              "  <thead>\n",
              "    <tr style=\"text-align: right;\">\n",
              "      <th></th>\n",
              "      <th>Open</th>\n",
              "      <th>High</th>\n",
              "      <th>Low</th>\n",
              "      <th>Close</th>\n",
              "      <th>Adj Close</th>\n",
              "      <th>Volume</th>\n",
              "    </tr>\n",
              "    <tr>\n",
              "      <th>Date</th>\n",
              "      <th></th>\n",
              "      <th></th>\n",
              "      <th></th>\n",
              "      <th></th>\n",
              "      <th></th>\n",
              "      <th></th>\n",
              "    </tr>\n",
              "  </thead>\n",
              "  <tbody>\n",
              "    <tr>\n",
              "      <th>2012-01-02</th>\n",
              "      <td>171.600006</td>\n",
              "      <td>177.000000</td>\n",
              "      <td>171.350006</td>\n",
              "      <td>175.149994</td>\n",
              "      <td>162.617142</td>\n",
              "      <td>3717480</td>\n",
              "    </tr>\n",
              "    <tr>\n",
              "      <th>2012-01-03</th>\n",
              "      <td>176.500000</td>\n",
              "      <td>180.649994</td>\n",
              "      <td>176.500000</td>\n",
              "      <td>179.550003</td>\n",
              "      <td>166.702316</td>\n",
              "      <td>3552588</td>\n",
              "    </tr>\n",
              "    <tr>\n",
              "      <th>2012-01-04</th>\n",
              "      <td>180.000000</td>\n",
              "      <td>184.399994</td>\n",
              "      <td>175.600006</td>\n",
              "      <td>177.800003</td>\n",
              "      <td>165.077530</td>\n",
              "      <td>3670612</td>\n",
              "    </tr>\n",
              "    <tr>\n",
              "      <th>2012-01-05</th>\n",
              "      <td>178.949997</td>\n",
              "      <td>181.699997</td>\n",
              "      <td>174.050003</td>\n",
              "      <td>176.449997</td>\n",
              "      <td>163.824127</td>\n",
              "      <td>2736557</td>\n",
              "    </tr>\n",
              "    <tr>\n",
              "      <th>2012-01-06</th>\n",
              "      <td>175.250000</td>\n",
              "      <td>176.449997</td>\n",
              "      <td>170.500000</td>\n",
              "      <td>172.899994</td>\n",
              "      <td>160.528152</td>\n",
              "      <td>2948089</td>\n",
              "    </tr>\n",
              "    <tr>\n",
              "      <th>...</th>\n",
              "      <td>...</td>\n",
              "      <td>...</td>\n",
              "      <td>...</td>\n",
              "      <td>...</td>\n",
              "      <td>...</td>\n",
              "      <td>...</td>\n",
              "    </tr>\n",
              "    <tr>\n",
              "      <th>2023-08-07</th>\n",
              "      <td>2919.949951</td>\n",
              "      <td>2919.949951</td>\n",
              "      <td>2882.449951</td>\n",
              "      <td>2904.600098</td>\n",
              "      <td>2904.600098</td>\n",
              "      <td>580359</td>\n",
              "    </tr>\n",
              "    <tr>\n",
              "      <th>2023-08-08</th>\n",
              "      <td>2918.000000</td>\n",
              "      <td>2932.000000</td>\n",
              "      <td>2904.600098</td>\n",
              "      <td>2921.250000</td>\n",
              "      <td>2921.250000</td>\n",
              "      <td>474417</td>\n",
              "    </tr>\n",
              "    <tr>\n",
              "      <th>2023-08-09</th>\n",
              "      <td>2924.000000</td>\n",
              "      <td>2962.000000</td>\n",
              "      <td>2918.149902</td>\n",
              "      <td>2955.899902</td>\n",
              "      <td>2955.899902</td>\n",
              "      <td>600081</td>\n",
              "    </tr>\n",
              "    <tr>\n",
              "      <th>2023-08-10</th>\n",
              "      <td>2958.000000</td>\n",
              "      <td>2995.500000</td>\n",
              "      <td>2917.000000</td>\n",
              "      <td>2988.550049</td>\n",
              "      <td>2988.550049</td>\n",
              "      <td>970990</td>\n",
              "    </tr>\n",
              "    <tr>\n",
              "      <th>2023-08-11</th>\n",
              "      <td>2988.500000</td>\n",
              "      <td>3067.449951</td>\n",
              "      <td>2980.000000</td>\n",
              "      <td>3017.250000</td>\n",
              "      <td>3017.250000</td>\n",
              "      <td>1823274</td>\n",
              "    </tr>\n",
              "  </tbody>\n",
              "</table>\n",
              "<p>2865 rows × 6 columns</p>\n",
              "</div>\n",
              "      <button class=\"colab-df-convert\" onclick=\"convertToInteractive('df-e2aa9db8-dd07-445b-a1aa-4b948d42a80e')\"\n",
              "              title=\"Convert this dataframe to an interactive table.\"\n",
              "              style=\"display:none;\">\n",
              "\n",
              "  <svg xmlns=\"http://www.w3.org/2000/svg\" height=\"24px\"viewBox=\"0 0 24 24\"\n",
              "       width=\"24px\">\n",
              "    <path d=\"M0 0h24v24H0V0z\" fill=\"none\"/>\n",
              "    <path d=\"M18.56 5.44l.94 2.06.94-2.06 2.06-.94-2.06-.94-.94-2.06-.94 2.06-2.06.94zm-11 1L8.5 8.5l.94-2.06 2.06-.94-2.06-.94L8.5 2.5l-.94 2.06-2.06.94zm10 10l.94 2.06.94-2.06 2.06-.94-2.06-.94-.94-2.06-.94 2.06-2.06.94z\"/><path d=\"M17.41 7.96l-1.37-1.37c-.4-.4-.92-.59-1.43-.59-.52 0-1.04.2-1.43.59L10.3 9.45l-7.72 7.72c-.78.78-.78 2.05 0 2.83L4 21.41c.39.39.9.59 1.41.59.51 0 1.02-.2 1.41-.59l7.78-7.78 2.81-2.81c.8-.78.8-2.07 0-2.86zM5.41 20L4 18.59l7.72-7.72 1.47 1.35L5.41 20z\"/>\n",
              "  </svg>\n",
              "      </button>\n",
              "\n",
              "\n",
              "\n",
              "    <div id=\"df-fc2fb92e-b493-4976-bd54-8b2ae01ba7d6\">\n",
              "      <button class=\"colab-df-quickchart\" onclick=\"quickchart('df-fc2fb92e-b493-4976-bd54-8b2ae01ba7d6')\"\n",
              "              title=\"Suggest charts.\"\n",
              "              style=\"display:none;\">\n",
              "\n",
              "<svg xmlns=\"http://www.w3.org/2000/svg\" height=\"24px\"viewBox=\"0 0 24 24\"\n",
              "     width=\"24px\">\n",
              "    <g>\n",
              "        <path d=\"M19 3H5c-1.1 0-2 .9-2 2v14c0 1.1.9 2 2 2h14c1.1 0 2-.9 2-2V5c0-1.1-.9-2-2-2zM9 17H7v-7h2v7zm4 0h-2V7h2v10zm4 0h-2v-4h2v4z\"/>\n",
              "    </g>\n",
              "</svg>\n",
              "      </button>\n",
              "    </div>\n",
              "\n",
              "<style>\n",
              "  .colab-df-quickchart {\n",
              "    background-color: #E8F0FE;\n",
              "    border: none;\n",
              "    border-radius: 50%;\n",
              "    cursor: pointer;\n",
              "    display: none;\n",
              "    fill: #1967D2;\n",
              "    height: 32px;\n",
              "    padding: 0 0 0 0;\n",
              "    width: 32px;\n",
              "  }\n",
              "\n",
              "  .colab-df-quickchart:hover {\n",
              "    background-color: #E2EBFA;\n",
              "    box-shadow: 0px 1px 2px rgba(60, 64, 67, 0.3), 0px 1px 3px 1px rgba(60, 64, 67, 0.15);\n",
              "    fill: #174EA6;\n",
              "  }\n",
              "\n",
              "  [theme=dark] .colab-df-quickchart {\n",
              "    background-color: #3B4455;\n",
              "    fill: #D2E3FC;\n",
              "  }\n",
              "\n",
              "  [theme=dark] .colab-df-quickchart:hover {\n",
              "    background-color: #434B5C;\n",
              "    box-shadow: 0px 1px 3px 1px rgba(0, 0, 0, 0.15);\n",
              "    filter: drop-shadow(0px 1px 2px rgba(0, 0, 0, 0.3));\n",
              "    fill: #FFFFFF;\n",
              "  }\n",
              "</style>\n",
              "\n",
              "    <script>\n",
              "      async function quickchart(key) {\n",
              "        const containerElement = document.querySelector('#' + key);\n",
              "        const charts = await google.colab.kernel.invokeFunction(\n",
              "            'suggestCharts', [key], {});\n",
              "      }\n",
              "    </script>\n",
              "\n",
              "      <script>\n",
              "\n",
              "function displayQuickchartButton(domScope) {\n",
              "  let quickchartButtonEl =\n",
              "    domScope.querySelector('#df-fc2fb92e-b493-4976-bd54-8b2ae01ba7d6 button.colab-df-quickchart');\n",
              "  quickchartButtonEl.style.display =\n",
              "    google.colab.kernel.accessAllowed ? 'block' : 'none';\n",
              "}\n",
              "\n",
              "        displayQuickchartButton(document);\n",
              "      </script>\n",
              "      <style>\n",
              "    .colab-df-container {\n",
              "      display:flex;\n",
              "      flex-wrap:wrap;\n",
              "      gap: 12px;\n",
              "    }\n",
              "\n",
              "    .colab-df-convert {\n",
              "      background-color: #E8F0FE;\n",
              "      border: none;\n",
              "      border-radius: 50%;\n",
              "      cursor: pointer;\n",
              "      display: none;\n",
              "      fill: #1967D2;\n",
              "      height: 32px;\n",
              "      padding: 0 0 0 0;\n",
              "      width: 32px;\n",
              "    }\n",
              "\n",
              "    .colab-df-convert:hover {\n",
              "      background-color: #E2EBFA;\n",
              "      box-shadow: 0px 1px 2px rgba(60, 64, 67, 0.3), 0px 1px 3px 1px rgba(60, 64, 67, 0.15);\n",
              "      fill: #174EA6;\n",
              "    }\n",
              "\n",
              "    [theme=dark] .colab-df-convert {\n",
              "      background-color: #3B4455;\n",
              "      fill: #D2E3FC;\n",
              "    }\n",
              "\n",
              "    [theme=dark] .colab-df-convert:hover {\n",
              "      background-color: #434B5C;\n",
              "      box-shadow: 0px 1px 3px 1px rgba(0, 0, 0, 0.15);\n",
              "      filter: drop-shadow(0px 1px 2px rgba(0, 0, 0, 0.3));\n",
              "      fill: #FFFFFF;\n",
              "    }\n",
              "  </style>\n",
              "\n",
              "      <script>\n",
              "        const buttonEl =\n",
              "          document.querySelector('#df-e2aa9db8-dd07-445b-a1aa-4b948d42a80e button.colab-df-convert');\n",
              "        buttonEl.style.display =\n",
              "          google.colab.kernel.accessAllowed ? 'block' : 'none';\n",
              "\n",
              "        async function convertToInteractive(key) {\n",
              "          const element = document.querySelector('#df-e2aa9db8-dd07-445b-a1aa-4b948d42a80e');\n",
              "          const dataTable =\n",
              "            await google.colab.kernel.invokeFunction('convertToInteractive',\n",
              "                                                     [key], {});\n",
              "          if (!dataTable) return;\n",
              "\n",
              "          const docLinkHtml = 'Like what you see? Visit the ' +\n",
              "            '<a target=\"_blank\" href=https://colab.research.google.com/notebooks/data_table.ipynb>data table notebook</a>'\n",
              "            + ' to learn more about interactive tables.';\n",
              "          element.innerHTML = '';\n",
              "          dataTable['output_type'] = 'display_data';\n",
              "          await google.colab.output.renderOutput(dataTable, element);\n",
              "          const docLink = document.createElement('div');\n",
              "          docLink.innerHTML = docLinkHtml;\n",
              "          element.appendChild(docLink);\n",
              "        }\n",
              "      </script>\n",
              "    </div>\n",
              "  </div>\n"
            ]
          },
          "metadata": {},
          "execution_count": 40
        }
      ]
    },
    {
      "cell_type": "code",
      "source": [
        "df.shape"
      ],
      "metadata": {
        "colab": {
          "base_uri": "https://localhost:8080/"
        },
        "id": "2XO2JDeJ5kc7",
        "outputId": "57f9b784-10ab-4a6f-e50a-be27c78bde54"
      },
      "execution_count": null,
      "outputs": [
        {
          "output_type": "execute_result",
          "data": {
            "text/plain": [
              "(2865, 6)"
            ]
          },
          "metadata": {},
          "execution_count": 41
        }
      ]
    },
    {
      "cell_type": "code",
      "source": [
        "plt.figure(figsize=(16,8))\n",
        "plt.title('Close Price History')\n",
        "plt.plot(df['Close'])\n",
        "plt.xlabel('Date',fontsize=18)\n",
        "plt.ylabel('Close Price INR',fontsize=18)\n",
        "plt.show()"
      ],
      "metadata": {
        "colab": {
          "base_uri": "https://localhost:8080/",
          "height": 723
        },
        "id": "BdvaiG375kxz",
        "outputId": "324013f4-153b-40fb-8d7e-f49db61d3c75"
      },
      "execution_count": null,
      "outputs": [
        {
          "output_type": "display_data",
          "data": {
            "text/plain": [
              "<Figure size 1600x800 with 1 Axes>"
            ],
            "image/png": "[encoded data removed]"
          },
          "metadata": {}
        }
      ]
    },
    {
      "cell_type": "code",
      "source": [
        "data=df.filter(['Close'])\n",
        "dataset=data.values\n",
        "training_data_len= math.ceil(len(dataset) * .8)\n",
        "\n",
        "#scale the data\n",
        "scaler=MinMaxScaler(feature_range=(0,1))\n",
        "scaled_data=scaler.fit_transform(dataset)\n",
        "\n",
        "scaled_data"
      ],
      "metadata": {
        "colab": {
          "base_uri": "https://localhost:8080/"
        },
        "id": "lBJX41L35k-R",
        "outputId": "eb641deb-8695-4b84-a95c-a90e04ec3661"
      },
      "execution_count": null,
      "outputs": [
        {
          "output_type": "execute_result",
          "data": {
            "text/plain": [
              "array([[7.57295276e-04],\n",
              "       [2.23823134e-03],\n",
              "       [1.64922391e-03],\n",
              "       ...,\n",
              "       [9.36690082e-01],\n",
              "       [9.47679327e-01],\n",
              "       [9.57339033e-01]])"
            ]
          },
          "metadata": {},
          "execution_count": 43
        }
      ]
    },
    {
      "cell_type": "code",
      "source": [
        "#Create training data set\n",
        "\n",
        "train_data=scaled_data[0:training_data_len,:]\n",
        "\n",
        "#split the data into x_train and y_train data sets\n",
        "\n",
        "x_train =[]\n",
        "y_train=[]\n",
        "\n",
        "for i in range(60,len(train_data)):\n",
        "  x_train.append(train_data[i-60:i,0])\n",
        "  y_train.append(train_data[i,0])\n",
        "  if i<=60:\n",
        "\n",
        "    print(x_train)\n",
        "    print(y_train)\n",
        "    print()"
      ],
      "metadata": {
        "colab": {
          "base_uri": "https://localhost:8080/"
        },
        "id": "oQ6Ru4Ct9ueE",
        "outputId": "c54dc6c6-1adc-4c5a-9937-c322f24aa10d"
      },
      "execution_count": null,
      "outputs": [
        {
          "output_type": "stream",
          "name": "stdout",
          "text": [
            "[array([0.0007573 , 0.00223823, 0.00164922, 0.00119484, 0.        ,\n",
            "       0.00089193, 0.00267578, 0.00366868, 0.00380331, 0.0033321 ,\n",
            "       0.0038538 , 0.00393794, 0.00368551, 0.00319747, 0.00639494,\n",
            "       0.00622665, 0.0064286 , 0.00841439, 0.01129212, 0.00960924,\n",
            "       0.01013093, 0.00784221, 0.00727004, 0.0080105 , 0.00854903,\n",
            "       0.00918852, 0.01206624, 0.01267208, 0.0114604 , 0.0120999 ,\n",
            "       0.01218404, 0.01514591, 0.01435496, 0.01987479, 0.02388005,\n",
            "       0.01790583, 0.01760291, 0.01787217, 0.01477568, 0.01758608,\n",
            "       0.01867995, 0.01883141, 0.01905019, 0.01718219, 0.01948773,\n",
            "       0.01968968, 0.0225674 , 0.02463734, 0.02512538, 0.02526001,\n",
            "       0.01995894, 0.02039649, 0.02088452, 0.02386322, 0.0235603 ,\n",
            "       0.02043015, 0.01997577, 0.01883141, 0.02187742, 0.01711488])]\n",
            "[0.018713609770555292]\n",
            "\n"
          ]
        }
      ]
    },
    {
      "cell_type": "code",
      "source": [
        "#convert train data to numpy arrays\n",
        "x_train,y_train=np.array(x_train),np.array(y_train)\n",
        "\n",
        "#Reshape\n",
        "x_train.shape"
      ],
      "metadata": {
        "colab": {
          "base_uri": "https://localhost:8080/"
        },
        "id": "5tk_KxrI9uVZ",
        "outputId": "3153cd43-2ca1-4f49-8419-b56cf07de2fe"
      },
      "execution_count": null,
      "outputs": [
        {
          "output_type": "execute_result",
          "data": {
            "text/plain": [
              "(2232, 60)"
            ]
          },
          "metadata": {},
          "execution_count": 45
        }
      ]
    },
    {
      "cell_type": "code",
      "source": [
        "x_train=np.reshape(x_train,(x_train.shape[0],x_train.shape[1],1))\n",
        "x_train.shape"
      ],
      "metadata": {
        "colab": {
          "base_uri": "https://localhost:8080/"
        },
        "id": "AZUCgSha92eS",
        "outputId": "88b2051a-cd5c-4745-af43-ab19fa7c6ea9"
      },
      "execution_count": null,
      "outputs": [
        {
          "output_type": "execute_result",
          "data": {
            "text/plain": [
              "(2232, 60, 1)"
            ]
          },
          "metadata": {},
          "execution_count": 46
        }
      ]
    },
    {
      "cell_type": "code",
      "source": [
        "# build LSTM model\n",
        "model=Sequential()\n",
        "model.add(LSTM(50,return_sequences=True,input_shape=(x_train.shape[1],1)))\n",
        "model.add(LSTM(50,return_sequences=False))\n",
        "model.add(Dense(25))\n",
        "model.add(Dense(1))"
      ],
      "metadata": {
        "id": "kFDv4m9p945A"
      },
      "execution_count": null,
      "outputs": []
    },
    {
      "cell_type": "code",
      "source": [
        "#copile the model\n",
        "model.compile(optimizer='adam',loss='mean_squared_error')"
      ],
      "metadata": {
        "id": "5RWpKqDT97DG"
      },
      "execution_count": null,
      "outputs": []
    },
    {
      "cell_type": "code",
      "source": [
        "#train the model\n",
        "model.fit(x_train,y_train,batch_size=1,epochs=1)"
      ],
      "metadata": {
        "colab": {
          "base_uri": "https://localhost:8080/"
        },
        "id": "Yi1RgZwj9-LF",
        "outputId": "925031fc-88e0-4765-a5ed-c0bf64f8d3c5"
      },
      "execution_count": null,
      "outputs": [
        {
          "output_type": "stream",
          "name": "stdout",
          "text": [
            "2232/2232 [==============================] - 41s 17ms/step - loss: 3.9635e-04\n"
          ]
        },
        {
          "output_type": "execute_result",
          "data": {
            "text/plain": [
              "<keras.callbacks.History at 0x7823d1c87610>"
            ]
          },
          "metadata": {},
          "execution_count": 49
        }
      ]
    },
    {
      "cell_type": "code",
      "source": [
        "model.save('keras_model.h5')"
      ],
      "metadata": {
        "id": "9IQfP_au-AFZ"
      },
      "execution_count": null,
      "outputs": []
    },
    {
      "cell_type": "code",
      "source": [
        "#create the testing data set\n",
        "#create a new array containing scaled values from index 1543 to 2003\n",
        "test_data=scaled_data[training_data_len - 60:,:]\n",
        "#create the data sets x_test and y_test\n",
        "x_test=[]\n",
        "y_test=dataset[training_data_len:,:]\n",
        "for i in range(60,len(test_data)):\n",
        "  x_test.append(test_data[i-60:i,0])"
      ],
      "metadata": {
        "id": "p_E_kvsd-NG8"
      },
      "execution_count": null,
      "outputs": []
    },
    {
      "cell_type": "code",
      "source": [
        "#convert the data to a numpy array\n",
        "x_test=np.array(x_test)\n",
        "#reshape\n",
        "x_test=np.reshape(x_test,(x_test.shape[0],x_test.shape[1],1))"
      ],
      "metadata": {
        "id": "Vp-5Zrtm-PyH"
      },
      "execution_count": null,
      "outputs": []
    },
    {
      "cell_type": "code",
      "source": [
        "#get the models predicted price values\n",
        "predictions=model.predict(x_test)\n",
        "predictions=scaler.inverse_transform(predictions)"
      ],
      "metadata": {
        "colab": {
          "base_uri": "https://localhost:8080/"
        },
        "id": "98Bfvtcc-SCk",
        "outputId": "6d435553-127d-4963-f58c-587e853e3e5f"
      },
      "execution_count": null,
      "outputs": [
        {
          "output_type": "stream",
          "name": "stdout",
          "text": [
            "18/18 [==============================] - 1s 11ms/step\n"
          ]
        }
      ]
    },
    {
      "cell_type": "code",
      "source": [
        "#Get the root mean squared error(RMSE)\n",
        "rmse=np.sqrt( np.mean((predictions - y_test)**2))\n",
        "rmse"
      ],
      "metadata": {
        "colab": {
          "base_uri": "https://localhost:8080/"
        },
        "id": "r8HTAKic-UGb",
        "outputId": "17f3fcf8-e86a-4591-fac4-536b55187f80"
      },
      "execution_count": null,
      "outputs": [
        {
          "output_type": "execute_result",
          "data": {
            "text/plain": [
              "96.52021645869948"
            ]
          },
          "metadata": {},
          "execution_count": 54
        }
      ]
    },
    {
      "cell_type": "code",
      "source": [
        "train=data[:training_data_len]\n",
        "valid=data[training_data_len:]\n",
        "valid['Predictions']=predictions\n",
        "\n",
        "#visualize the data\n",
        "plt.figure(figsize=(16,8))\n",
        "plt.title('Model')\n",
        "plt.xlabel('Date',fontsize=18)\n",
        "plt.ylabel('Close Price INR',fontsize=18)\n",
        "plt.plot(train['Close'])\n",
        "plt.plot(valid[['Close','Predictions']])\n",
        "plt.legend(['Train','Val','Predictions'],loc='lower right')\n",
        "plt.show()"
      ],
      "metadata": {
        "colab": {
          "base_uri": "https://localhost:8080/",
          "height": 827
        },
        "id": "YzYNRtfp-YD2",
        "outputId": "811a7dcb-502f-43f7-8ed3-2396ce1b5a44"
      },
      "execution_count": null,
      "outputs": [
        {
          "output_type": "stream",
          "name": "stderr",
          "text": [
            "<ipython-input-55-2be6b86c12c4>:3: SettingWithCopyWarning: \n",
            "A value is trying to be set on a copy of a slice from a DataFrame.\n",
            "Try using .loc[row_indexer,col_indexer] = value instead\n",
            "\n",
            "See the caveats in the documentation: https://pandas.pydata.org/pandas-docs/stable/user_guide/indexing.html#returning-a-view-versus-a-copy\n",
            "  valid['Predictions']=predictions\n"
          ]
        },
        {
          "output_type": "display_data",
          "data": {
            "text/plain": [
              "<Figure size 1600x800 with 1 Axes>"
            ],
            "image/png": "[encoded data removed]"
          },
          "metadata": {}
        }
      ]
    },
    {
      "cell_type": "code",
      "source": [
        "#show the valid and predicted prices\n",
        "valid"
      ],
      "metadata": {
        "colab": {
          "base_uri": "https://localhost:8080/",
          "height": 455
        },
        "id": "Pg8x9lWg-a7p",
        "outputId": "dc9b7e45-70ec-42a8-e432-be5ca42a4167"
      },
      "execution_count": null,
      "outputs": [
        {
          "output_type": "execute_result",
          "data": {
            "text/plain": [
              "                  Close  Predictions\n",
              "Date                                \n",
              "2021-04-26  1479.849976  1580.210449\n",
              "2021-04-27  1495.099976  1568.334961\n",
              "2021-04-28  1508.849976  1560.401367\n",
              "2021-04-29  1506.800049  1557.176880\n",
              "2021-04-30  1491.650024  1556.660522\n",
              "...                 ...          ...\n",
              "2023-08-07  2904.600098  3031.607178\n",
              "2023-08-08  2921.250000  3015.927246\n",
              "2023-08-09  2955.899902  3004.241211\n",
              "2023-08-10  2988.550049  3000.404785\n",
              "2023-08-11  3017.250000  3005.193604\n",
              "\n",
              "[573 rows x 2 columns]"
            ],
            "text/html": [
              "\n",
              "\n",
              "  <div id=\"df-a3f14f4d-e6aa-47cd-b05b-3538ff0623fe\">\n",
              "    <div class=\"colab-df-container\">\n",
              "      <div>\n",
              "<style scoped>\n",
              "    .dataframe tbody tr th:only-of-type {\n",
              "        vertical-align: middle;\n",
              "    }\n",
              "\n",
              "    .dataframe tbody tr th {\n",
              "        vertical-align: top;\n",
              "    }\n",
              "\n",
              "    .dataframe thead th {\n",
              "        text-align: right;\n",
              "    }\n",
              "</style>\n",
              "<table border=\"1\" class=\"dataframe\">\n",
              "  <thead>\n",
              "    <tr style=\"text-align: right;\">\n",
              "      <th></th>\n",
              "      <th>Close</th>\n",
              "      <th>Predictions</th>\n",
              "    </tr>\n",
              "    <tr>\n",
              "      <th>Date</th>\n",
              "      <th></th>\n",
              "      <th></th>\n",
              "    </tr>\n",
              "  </thead>\n",
              "  <tbody>\n",
              "    <tr>\n",
              "      <th>2021-04-26</th>\n",
              "      <td>1479.849976</td>\n",
              "      <td>1580.210449</td>\n",
              "    </tr>\n",
              "    <tr>\n",
              "      <th>2021-04-27</th>\n",
              "      <td>1495.099976</td>\n",
              "      <td>1568.334961</td>\n",
              "    </tr>\n",
              "    <tr>\n",
              "      <th>2021-04-28</th>\n",
              "      <td>1508.849976</td>\n",
              "      <td>1560.401367</td>\n",
              "    </tr>\n",
              "    <tr>\n",
              "      <th>2021-04-29</th>\n",
              "      <td>1506.800049</td>\n",
              "      <td>1557.176880</td>\n",
              "    </tr>\n",
              "    <tr>\n",
              "      <th>2021-04-30</th>\n",
              "      <td>1491.650024</td>\n",
              "      <td>1556.660522</td>\n",
              "    </tr>\n",
              "    <tr>\n",
              "      <th>...</th>\n",
              "      <td>...</td>\n",
              "      <td>...</td>\n",
              "    </tr>\n",
              "    <tr>\n",
              "      <th>2023-08-07</th>\n",
              "      <td>2904.600098</td>\n",
              "      <td>3031.607178</td>\n",
              "    </tr>\n",
              "    <tr>\n",
              "      <th>2023-08-08</th>\n",
              "      <td>2921.250000</td>\n",
              "      <td>3015.927246</td>\n",
              "    </tr>\n",
              "    <tr>\n",
              "      <th>2023-08-09</th>\n",
              "      <td>2955.899902</td>\n",
              "      <td>3004.241211</td>\n",
              "    </tr>\n",
              "    <tr>\n",
              "      <th>2023-08-10</th>\n",
              "      <td>2988.550049</td>\n",
              "      <td>3000.404785</td>\n",
              "    </tr>\n",
              "    <tr>\n",
              "      <th>2023-08-11</th>\n",
              "      <td>3017.250000</td>\n",
              "      <td>3005.193604</td>\n",
              "    </tr>\n",
              "  </tbody>\n",
              "</table>\n",
              "<p>573 rows × 2 columns</p>\n",
              "</div>\n",
              "      <button class=\"colab-df-convert\" onclick=\"convertToInteractive('df-a3f14f4d-e6aa-47cd-b05b-3538ff0623fe')\"\n",
              "              title=\"Convert this dataframe to an interactive table.\"\n",
              "              style=\"display:none;\">\n",
              "\n",
              "  <svg xmlns=\"http://www.w3.org/2000/svg\" height=\"24px\"viewBox=\"0 0 24 24\"\n",
              "       width=\"24px\">\n",
              "    <path d=\"M0 0h24v24H0V0z\" fill=\"none\"/>\n",
              "    <path d=\"M18.56 5.44l.94 2.06.94-2.06 2.06-.94-2.06-.94-.94-2.06-.94 2.06-2.06.94zm-11 1L8.5 8.5l.94-2.06 2.06-.94-2.06-.94L8.5 2.5l-.94 2.06-2.06.94zm10 10l.94 2.06.94-2.06 2.06-.94-2.06-.94-.94-2.06-.94 2.06-2.06.94z\"/><path d=\"M17.41 7.96l-1.37-1.37c-.4-.4-.92-.59-1.43-.59-.52 0-1.04.2-1.43.59L10.3 9.45l-7.72 7.72c-.78.78-.78 2.05 0 2.83L4 21.41c.39.39.9.59 1.41.59.51 0 1.02-.2 1.41-.59l7.78-7.78 2.81-2.81c.8-.78.8-2.07 0-2.86zM5.41 20L4 18.59l7.72-7.72 1.47 1.35L5.41 20z\"/>\n",
              "  </svg>\n",
              "      </button>\n",
              "\n",
              "\n",
              "\n",
              "    <div id=\"df-eafcb5d4-d192-44c3-9acc-86e8d7066899\">\n",
              "      <button class=\"colab-df-quickchart\" onclick=\"quickchart('df-eafcb5d4-d192-44c3-9acc-86e8d7066899')\"\n",
              "              title=\"Suggest charts.\"\n",
              "              style=\"display:none;\">\n",
              "\n",
              "<svg xmlns=\"http://www.w3.org/2000/svg\" height=\"24px\"viewBox=\"0 0 24 24\"\n",
              "     width=\"24px\">\n",
              "    <g>\n",
              "        <path d=\"M19 3H5c-1.1 0-2 .9-2 2v14c0 1.1.9 2 2 2h14c1.1 0 2-.9 2-2V5c0-1.1-.9-2-2-2zM9 17H7v-7h2v7zm4 0h-2V7h2v10zm4 0h-2v-4h2v4z\"/>\n",
              "    </g>\n",
              "</svg>\n",
              "      </button>\n",
              "    </div>\n",
              "\n",
              "<style>\n",
              "  .colab-df-quickchart {\n",
              "    background-color: #E8F0FE;\n",
              "    border: none;\n",
              "    border-radius: 50%;\n",
              "    cursor: pointer;\n",
              "    display: none;\n",
              "    fill: #1967D2;\n",
              "    height: 32px;\n",
              "    padding: 0 0 0 0;\n",
              "    width: 32px;\n",
              "  }\n",
              "\n",
              "  .colab-df-quickchart:hover {\n",
              "    background-color: #E2EBFA;\n",
              "    box-shadow: 0px 1px 2px rgba(60, 64, 67, 0.3), 0px 1px 3px 1px rgba(60, 64, 67, 0.15);\n",
              "    fill: #174EA6;\n",
              "  }\n",
              "\n",
              "  [theme=dark] .colab-df-quickchart {\n",
              "    background-color: #3B4455;\n",
              "    fill: #D2E3FC;\n",
              "  }\n",
              "\n",
              "  [theme=dark] .colab-df-quickchart:hover {\n",
              "    background-color: #434B5C;\n",
              "    box-shadow: 0px 1px 3px 1px rgba(0, 0, 0, 0.15);\n",
              "    filter: drop-shadow(0px 1px 2px rgba(0, 0, 0, 0.3));\n",
              "    fill: #FFFFFF;\n",
              "  }\n",
              "</style>\n",
              "\n",
              "    <script>\n",
              "      async function quickchart(key) {\n",
              "        const containerElement = document.querySelector('#' + key);\n",
              "        const charts = await google.colab.kernel.invokeFunction(\n",
              "            'suggestCharts', [key], {});\n",
              "      }\n",
              "    </script>\n",
              "\n",
              "      <script>\n",
              "\n",
              "function displayQuickchartButton(domScope) {\n",
              "  let quickchartButtonEl =\n",
              "    domScope.querySelector('#df-eafcb5d4-d192-44c3-9acc-86e8d7066899 button.colab-df-quickchart');\n",
              "  quickchartButtonEl.style.display =\n",
              "    google.colab.kernel.accessAllowed ? 'block' : 'none';\n",
              "}\n",
              "\n",
              "        displayQuickchartButton(document);\n",
              "      </script>\n",
              "      <style>\n",
              "    .colab-df-container {\n",
              "      display:flex;\n",
              "      flex-wrap:wrap;\n",
              "      gap: 12px;\n",
              "    }\n",
              "\n",
              "    .colab-df-convert {\n",
              "      background-color: #E8F0FE;\n",
              "      border: none;\n",
              "      border-radius: 50%;\n",
              "      cursor: pointer;\n",
              "      display: none;\n",
              "      fill: #1967D2;\n",
              "      height: 32px;\n",
              "      padding: 0 0 0 0;\n",
              "      width: 32px;\n",
              "    }\n",
              "\n",
              "    .colab-df-convert:hover {\n",
              "      background-color: #E2EBFA;\n",
              "      box-shadow: 0px 1px 2px rgba(60, 64, 67, 0.3), 0px 1px 3px 1px rgba(60, 64, 67, 0.15);\n",
              "      fill: #174EA6;\n",
              "    }\n",
              "\n",
              "    [theme=dark] .colab-df-convert {\n",
              "      background-color: #3B4455;\n",
              "      fill: #D2E3FC;\n",
              "    }\n",
              "\n",
              "    [theme=dark] .colab-df-convert:hover {\n",
              "      background-color: #434B5C;\n",
              "      box-shadow: 0px 1px 3px 1px rgba(0, 0, 0, 0.15);\n",
              "      filter: drop-shadow(0px 1px 2px rgba(0, 0, 0, 0.3));\n",
              "      fill: #FFFFFF;\n",
              "    }\n",
              "  </style>\n",
              "\n",
              "      <script>\n",
              "        const buttonEl =\n",
              "          document.querySelector('#df-a3f14f4d-e6aa-47cd-b05b-3538ff0623fe button.colab-df-convert');\n",
              "        buttonEl.style.display =\n",
              "          google.colab.kernel.accessAllowed ? 'block' : 'none';\n",
              "\n",
              "        async function convertToInteractive(key) {\n",
              "          const element = document.querySelector('#df-a3f14f4d-e6aa-47cd-b05b-3538ff0623fe');\n",
              "          const dataTable =\n",
              "            await google.colab.kernel.invokeFunction('convertToInteractive',\n",
              "                                                     [key], {});\n",
              "          if (!dataTable) return;\n",
              "\n",
              "          const docLinkHtml = 'Like what you see? Visit the ' +\n",
              "            '<a target=\"_blank\" href=https://colab.research.google.com/notebooks/data_table.ipynb>data table notebook</a>'\n",
              "            + ' to learn more about interactive tables.';\n",
              "          element.innerHTML = '';\n",
              "          dataTable['output_type'] = 'display_data';\n",
              "          await google.colab.output.renderOutput(dataTable, element);\n",
              "          const docLink = document.createElement('div');\n",
              "          docLink.innerHTML = docLinkHtml;\n",
              "          element.appendChild(docLink);\n",
              "        }\n",
              "      </script>\n",
              "    </div>\n",
              "  </div>\n"
            ]
          },
          "metadata": {},
          "execution_count": 56
        }
      ]
    },
    {
      "cell_type": "code",
      "source": [
        "#Get the quote\n",
        "apple_quote=yf.download('TITAN.NS', start='2012-01-01', end='2022-08-13', progress=False)\n",
        "#create a new dataframe\n",
        "new_df=apple_quote.filter(['Close'])\n",
        "#get the last 60 day closing price values and convert the dataframe to an array\n",
        "last_60_days=new_df[-60:].values\n",
        "#scale the data to be values between 0 and 1\n",
        "last_60_days_scaled=scaler.transform(last_60_days)\n",
        "#create an empty list\n",
        "X_test=[]\n",
        "#append the past 60 days\n",
        "X_test.append(last_60_days_scaled)\n",
        "#convert the X_test data to a numpy array\n",
        "X_test=np.array(X_test)\n",
        "#reshape\n",
        "X_test=np.reshape(X_test,(X_test.shape[0],X_test.shape[1],1))\n",
        "#get the predicted scaled price\n",
        "pred_price=model.predict(X_test)\n",
        "#undo the scaling\n",
        "pred_price=scaler.inverse_transform(pred_price)\n",
        "print(pred_price)"
      ],
      "metadata": {
        "colab": {
          "base_uri": "https://localhost:8080/"
        },
        "id": "yV5LpIdI-eBa",
        "outputId": "9f19e1f0-7606-4191-dc8f-97b01d8400d1"
      },
      "execution_count": null,
      "outputs": [
        {
          "output_type": "stream",
          "name": "stdout",
          "text": [
            "1/1 [==============================] - 0s 22ms/step\n",
            "[[2532.019]]\n"
          ]
        }
      ]
    },
    {
      "cell_type": "code",
      "source": [
        "#Get the quote\n",
        "\n",
        "apple_quote2=yf.download('TITAN.NS', start='2023-08-10', end='2023-08-11', progress=False)\n",
        "print(apple_quote2['Close'])"
      ],
      "metadata": {
        "colab": {
          "base_uri": "https://localhost:8080/"
        },
        "id": "EHJOvuqS-r6y",
        "outputId": "c8f529bb-aed5-4557-b8df-b78088bd6c19"
      },
      "execution_count": null,
      "outputs": [
        {
          "output_type": "stream",
          "name": "stdout",
          "text": [
            "Date\n",
            "2023-08-10    2988.550049\n",
            "Name: Close, dtype: float64\n"
          ]
        }
      ]
    },
    {
      "cell_type": "code",
      "source": [
        "print(X_test)"
      ],
      "metadata": {
        "colab": {
          "base_uri": "https://localhost:8080/"
        },
        "id": "OZqP-Cwf-wJH",
        "outputId": "ada268b5-6898-459f-83c5-d7fa66fd468a"
      },
      "execution_count": null,
      "outputs": [
        {
          "output_type": "stream",
          "name": "stdout",
          "text": [
            "[[[0.66108514]\n",
            "  [0.66588134]\n",
            "  [0.66216216]\n",
            "  [0.65312507]\n",
            "  [0.66273433]\n",
            "  [0.6651745 ]\n",
            "  [0.70108711]\n",
            "  [0.68765777]\n",
            "  [0.68146481]\n",
            "  [0.6893238 ]\n",
            "  [0.68375346]\n",
            "  [0.68178454]\n",
            "  [0.64888427]\n",
            "  [0.65832523]\n",
            "  [0.66197703]\n",
            "  [0.66283531]\n",
            "  [0.64942274]\n",
            "  [0.64928814]\n",
            "  [0.65031472]\n",
            "  [0.6354717 ]\n",
            "  [0.59356802]\n",
            "  [0.60206656]\n",
            "  [0.64124402]\n",
            "  [0.62545857]\n",
            "  [0.62889167]\n",
            "  [0.63030527]\n",
            "  [0.62852144]\n",
            "  [0.60420385]\n",
            "  [0.59346708]\n",
            "  [0.5951836 ]\n",
            "  [0.59684964]\n",
            "  [0.60233584]\n",
            "  [0.59955909]\n",
            "  [0.61951804]\n",
            "  [0.65787082]\n",
            "  [0.66354216]\n",
            "  [0.67002124]\n",
            "  [0.65871226]\n",
            "  [0.65245192]\n",
            "  [0.65785398]\n",
            "  [0.67880581]\n",
            "  [0.6948773 ]\n",
            "  [0.69613946]\n",
            "  [0.70623673]\n",
            "  [0.7120932 ]\n",
            "  [0.72434452]\n",
            "  [0.72564037]\n",
            "  [0.7136414 ]\n",
            "  [0.71712499]\n",
            "  [0.72759244]\n",
            "  [0.73344891]\n",
            "  [0.74159402]\n",
            "  [0.74452221]\n",
            "  [0.7551075 ]\n",
            "  [0.75754768]\n",
            "  [0.76062739]\n",
            "  [0.76538991]\n",
            "  [0.76089667]\n",
            "  [0.77393898]\n",
            "  [0.7738043 ]]]\n"
          ]
        }
      ]
    },
    {
      "cell_type": "code",
      "source": [],
      "metadata": {
        "id": "ThCZqVbwBEFL"
      },
      "execution_count": null,
      "outputs": []
    }
  ]
}